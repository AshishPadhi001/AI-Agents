{
 "cells": [
  {
   "cell_type": "markdown",
   "id": "2db1b3d4",
   "metadata": {},
   "source": [
    "# 📖 VerbiAI - CrewAI Dictionary & Web Search Agent\n",
    "This notebook defines **VerbiAI**, a **CrewAI-based linguistic agent** that:  \n",
    "- **Retrieves word definitions, synonyms, and antonyms**  \n",
    "- **Performs a Google Search for contextual understanding**  \n",
    "- **Generates a short summary of search results**  \n",
    "\n",
    "## 🛠 Features:\n",
    "- **CrewAI-powered** agent management  \n",
    "- **Uses NLTK's WordNet for linguistic data**  \n",
    "- **Fetches relevant web results for enhanced word insights**  \n",
    "\n",
    "🔍 **Run the cells below to initialize VerbiAI!**\n"
   ]
  },
  {
   "cell_type": "code",
   "execution_count": 2,
   "id": "ce6c42d1",
   "metadata": {},
   "outputs": [
    {
     "name": "stderr",
     "output_type": "stream",
     "text": [
      "e:\\AIAgents\\agents\\Lib\\site-packages\\pydantic\\_internal\\_config.py:295: PydanticDeprecatedSince20: Support for class-based `config` is deprecated, use ConfigDict instead. Deprecated in Pydantic V2.0 to be removed in V3.0. See Pydantic V2 Migration Guide at https://errors.pydantic.dev/2.10/migration/\n",
      "  warnings.warn(DEPRECATION_MESSAGE, DeprecationWarning)\n",
      "e:\\AIAgents\\agents\\Lib\\site-packages\\pydantic\\_internal\\_config.py:295: PydanticDeprecatedSince20: Support for class-based `config` is deprecated, use ConfigDict instead. Deprecated in Pydantic V2.0 to be removed in V3.0. See Pydantic V2 Migration Guide at https://errors.pydantic.dev/2.10/migration/\n",
      "  warnings.warn(DEPRECATION_MESSAGE, DeprecationWarning)\n",
      "e:\\AIAgents\\agents\\Lib\\site-packages\\crewai_tools\\tools\\scrapegraph_scrape_tool\\scrapegraph_scrape_tool.py:34: PydanticDeprecatedSince20: Pydantic V1 style `@validator` validators are deprecated. You should migrate to Pydantic V2 style `@field_validator` validators, see the migration guide for more details. Deprecated in Pydantic V2.0 to be removed in V3.0. See Pydantic V2 Migration Guide at https://errors.pydantic.dev/2.10/migration/\n",
      "  @validator(\"website_url\")\n",
      "e:\\AIAgents\\agents\\Lib\\site-packages\\crewai_tools\\tools\\selenium_scraping_tool\\selenium_scraping_tool.py:26: PydanticDeprecatedSince20: Pydantic V1 style `@validator` validators are deprecated. You should migrate to Pydantic V2 style `@field_validator` validators, see the migration guide for more details. Deprecated in Pydantic V2.0 to be removed in V3.0. See Pydantic V2 Migration Guide at https://errors.pydantic.dev/2.10/migration/\n",
      "  @validator(\"website_url\")\n",
      "e:\\AIAgents\\agents\\Lib\\site-packages\\crewai_tools\\tools\\vision_tool\\vision_tool.py:15: PydanticDeprecatedSince20: Pydantic V1 style `@validator` validators are deprecated. You should migrate to Pydantic V2 style `@field_validator` validators, see the migration guide for more details. Deprecated in Pydantic V2.0 to be removed in V3.0. See Pydantic V2 Migration Guide at https://errors.pydantic.dev/2.10/migration/\n",
      "  @validator(\"image_path_url\")\n",
      "[nltk_data] Downloading package wordnet to C:\\Users\\Padhi\n",
      "[nltk_data]     Ashish\\AppData\\Roaming\\nltk_data...\n",
      "[nltk_data]   Package wordnet is already up-to-date!\n"
     ]
    },
    {
     "data": {
      "text/plain": [
       "True"
      ]
     },
     "execution_count": 2,
     "metadata": {},
     "output_type": "execute_result"
    }
   ],
   "source": [
    "# Import necessary libraries\n",
    "from crewai import Agent, Task, Crew\n",
    "from crewai_tools import ScrapeWebsiteTool\n",
    "import requests\n",
    "import re\n",
    "import nltk\n",
    "from nltk.corpus import wordnet\n",
    "from bs4 import BeautifulSoup\n",
    "\n",
    "# Ensure NLTK WordNet is downloaded\n",
    "nltk.download('wordnet')\n"
   ]
  },
  {
   "cell_type": "code",
   "execution_count": 3,
   "id": "8ae0ccff",
   "metadata": {},
   "outputs": [],
   "source": [
    "# Web scraping tool for Google image search\n",
    "google_scraper = ScrapeWebsiteTool(website_url=\"https://www.google.com/\")"
   ]
  },
  {
   "cell_type": "code",
   "execution_count": 5,
   "id": "08a60d74",
   "metadata": {},
   "outputs": [],
   "source": [
    "# Query Classification Function\n",
    "def classify_query(user_query):\n",
    "    \"\"\"\n",
    "    Determines if a query is valid for dictionary lookup.\n",
    "    \"\"\"\n",
    "    user_query = user_query.lower().strip()\n",
    "    \n",
    "    # Acceptable word query format (only alphabets, no numbers/special characters)\n",
    "    if re.fullmatch(r\"[a-zA-Z\\s]+\", user_query):\n",
    "        print(f\"DEBUG: Query '{user_query}' classified as 'dictionary_lookup'\")\n",
    "        return \"dictionary_lookup\"\n",
    "\n",
    "    print(f\"DEBUG: Query '{user_query}' classified as 'unknown'\")\n",
    "    return \"unknown\"\n"
   ]
  },
  {
   "cell_type": "code",
   "execution_count": 6,
   "id": "5207246f",
   "metadata": {},
   "outputs": [],
   "source": [
    "# Query Classifier Agent\n",
    "query_classifier = Agent(\n",
    "    role=\"Dictionary Query Classifier\",\n",
    "    goal=\"Classify queries and direct them to the Dictionary Lookup Agent.\",\n",
    "    backstory=\"You determine if a user's query is a valid word for dictionary lookup.\",\n",
    "    allow_delegation=True,\n",
    "    verbose=True\n",
    ")"
   ]
  },
  {
   "cell_type": "code",
   "execution_count": 7,
   "id": "e19cfb21",
   "metadata": {},
   "outputs": [],
   "source": [
    "# Dictionary Lookup Agent\n",
    "class DictionaryLookupAgent(Agent):\n",
    "    def execute(self, word):\n",
    "        \"\"\"\n",
    "        Fetches definition, synonyms, and example usage from WordNet.\n",
    "        \"\"\"\n",
    "        try:\n",
    "            synsets = wordnet.synsets(word)\n",
    "            if not synsets:\n",
    "                return f\"Sorry, no information found for '{word}'.\"\n",
    "\n",
    "            definition = synsets[0].definition()\n",
    "            synonyms = list(set(lemma.name().replace(\"_\", \" \") for synset in synsets for lemma in synset.lemmas()))[:5]\n",
    "            example = synsets[0].examples()[0] if synsets[0].examples() else \"No example available.\"\n",
    "\n",
    "            return {\n",
    "                \"word\": word.capitalize(),\n",
    "                \"definition\": definition,\n",
    "                \"synonyms\": synonyms,\n",
    "                \"example\": example\n",
    "            }\n",
    "        except Exception as e:\n",
    "            return f\"Error fetching word details: {str(e)}\""
   ]
  },
  {
   "cell_type": "code",
   "execution_count": 8,
   "id": "aa2f0bb1",
   "metadata": {},
   "outputs": [],
   "source": [
    "dictionary_agent = DictionaryLookupAgent(\n",
    "    role=\"Dictionary Lookup Agent\",\n",
    "    goal=\"Retrieve the definition, synonyms, and example usage of a given word.\",\n",
    "    backstory=\"You are a linguistic expert providing dictionary definitions and word details.\",\n",
    "    allow_delegation=True,\n",
    "    verbose=True\n",
    ")"
   ]
  },
  {
   "cell_type": "code",
   "execution_count": 9,
   "id": "01ed2fe7",
   "metadata": {},
   "outputs": [],
   "source": [
    "# Image Search Agent\n",
    "class ImageSearchAgent(Agent):\n",
    "    def execute(self, query):\n",
    "        \"\"\"\n",
    "        Performs Google image search and extracts image links.\n",
    "        \"\"\"\n",
    "        try:\n",
    "            search_url = f\"https://www.google.com/search?tbm=isch&q={query.replace(' ', '+')}\"\n",
    "            headers = {\"User-Agent\": \"Mozilla/5.0\"}\n",
    "            response = requests.get(search_url, headers=headers)\n",
    "\n",
    "            if response.status_code != 200:\n",
    "                return []\n",
    "\n",
    "            soup = BeautifulSoup(response.text, \"html.parser\")\n",
    "            image_tags = soup.find_all(\"img\")\n",
    "\n",
    "            # Extract first 3 image URLs (ignoring the first, usually a Google logo)\n",
    "            image_urls = [img[\"src\"] for img in image_tags[1:4] if \"http\" in img[\"src\"]]\n",
    "            return image_urls\n",
    "        except Exception as e:\n",
    "            return f\"Error fetching images: {str(e)}\""
   ]
  },
  {
   "cell_type": "code",
   "execution_count": 10,
   "id": "eaccb23f",
   "metadata": {},
   "outputs": [],
   "source": [
    "image_search_agent = ImageSearchAgent(\n",
    "    role=\"Image Search Agent\",\n",
    "    goal=\"Find relevant images for a given word using Google search.\",\n",
    "    backstory=\"You are a web search expert retrieving top related images for words.\",\n",
    "    tools=[google_scraper],\n",
    "    allow_delegation=True,\n",
    "    verbose=True\n",
    ")"
   ]
  },
  {
   "cell_type": "code",
   "execution_count": 11,
   "id": "7e25b4fe",
   "metadata": {},
   "outputs": [],
   "source": [
    "# Tasks for Each Agent\n",
    "dictionary_task = Task(\n",
    "    description=\"Fetch the definition, synonyms, and example usage for the word {query}.\",\n",
    "    expected_output=\"A dictionary-style response with a definition, synonyms, and an example.\",\n",
    "    agent=dictionary_agent\n",
    ")"
   ]
  },
  {
   "cell_type": "code",
   "execution_count": 12,
   "id": "d7e0dbd2",
   "metadata": {},
   "outputs": [],
   "source": [
    "\n",
    "image_task = Task(\n",
    "    description=\"Perform a Google image search for {query} and retrieve 3 best image links.\",\n",
    "    expected_output=\"A list of URLs pointing to relevant images.\",\n",
    "    agent=image_search_agent\n",
    ")\n"
   ]
  },
  {
   "cell_type": "code",
   "execution_count": 13,
   "id": "08caaa56",
   "metadata": {},
   "outputs": [],
   "source": [
    "# CrewAI Orchestration\n",
    "class VerbiAICrew:\n",
    "    def __init__(self):\n",
    "        self.crew = Crew(\n",
    "            agents=[query_classifier, dictionary_agent, image_search_agent],\n",
    "            tasks=[dictionary_task, image_task],\n",
    "            verbose=True,\n",
    "            memory=False\n",
    "        )\n",
    "\n",
    "    def run(self, word):\n",
    "        category = classify_query(word)\n",
    "        if category != \"dictionary_lookup\":\n",
    "            return \"Sorry, I couldn't understand your query.\"\n",
    "\n",
    "        print(\"DEBUG: Sending query to Dictionary Agent\")\n",
    "        word_info = dictionary_agent.execute(word)\n",
    "\n",
    "        print(\"DEBUG: Sending query to Image Search Agent\")\n",
    "        image_links = image_search_agent.execute(word)\n",
    "\n",
    "        # Format the response\n",
    "        response = f\"📖 **Word:** {word_info['word']}\\n\"\n",
    "        response += f\"📝 **Definition:** {word_info['definition']}\\n\"\n",
    "        response += f\"🔄 **Synonyms:** {', '.join(word_info['synonyms'])}\\n\"\n",
    "        response += f\"📌 **Example Usage:** \\\"{word_info['example']}\\\"\\n\\n\"\n",
    "\n",
    "        if image_links:\n",
    "            response += \"🖼 **Image Links:**\\n\" + \"\\n\".join([f\"{i+1}️⃣ {link}\" for i, link in enumerate(image_links)])\n",
    "        else:\n",
    "            response += \"🚫 No images found.\"\n",
    "\n",
    "        return response"
   ]
  },
  {
   "cell_type": "code",
   "execution_count": null,
   "id": "6e433f59",
   "metadata": {},
   "outputs": [],
   "source": [
    "# ✅ Single Query Execution\n",
    "verbi_ai_crew = VerbiAICrew()\n",
    "user_query = input(\"Enter a word to define: Happy \")\n",
    "print(f\"Query: {user_query} ➝ Result: \\n{verbi_ai_crew.run(user_query)}\")"
   ]
  }
 ],
 "metadata": {
  "kernelspec": {
   "display_name": "agents",
   "language": "python",
   "name": "python3"
  },
  "language_info": {
   "codemirror_mode": {
    "name": "ipython",
    "version": 3
   },
   "file_extension": ".py",
   "mimetype": "text/x-python",
   "name": "python",
   "nbconvert_exporter": "python",
   "pygments_lexer": "ipython3",
   "version": "3.11.4"
  }
 },
 "nbformat": 4,
 "nbformat_minor": 5
}
